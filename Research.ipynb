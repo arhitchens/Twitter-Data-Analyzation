{
 "cells": [
  {
   "cell_type": "markdown",
   "metadata": {},
   "source": [
    "Research Question: How does tornado twitter activity compare to earthquake twitter activity?"
   ]
  },
  {
   "cell_type": "code",
   "execution_count": null,
   "metadata": {
    "collapsed": true
   },
   "outputs": [],
   "source": [
    "import MySQLdb as mdb\n",
    "import sys\n",
    "import pandas as pd\n",
    "import numpy as np\n",
    "from collections import Counter\n",
    "from collections import OrderedDict\n",
    "import matplotlib.pyplot as plt\n",
    "\n",
    "con = mdb.connect('opendata.missouri.edu', 'datascience', 'datascience', 'datascience');\n",
    "tor_csv = 'Data/1160_data.csv'\n",
    "ear_csv = 'Data/2335_data.csv'"
   ]
  },
  {
   "cell_type": "code",
   "execution_count": null,
   "metadata": {
    "collapsed": false
   },
   "outputs": [],
   "source": [
    "#tor_sql = \"SELECT * FROM tweet WHERE job_id = 1160\"\n",
    "#tor_tweets = pd.read_sql_query(tor_sql, con, parse_dates=['created_at'])\n",
    "\n",
    "ear_sql = \"SELECT * FROM tweet WHERE job_id = 2335\"\n",
    "ear_tweets = pd.read_sql_query(ear_sql, con, parse_dates=['created_at'])\n",
    "# Already have the tornado data from descriptive statistics\n",
    "#tor_tweets.to_csv(tor_csv,index=False)\n",
    "#ear_tweets.to_csv(ear_csv,index=False)"
   ]
  },
  {
   "cell_type": "code",
   "execution_count": null,
   "metadata": {
    "collapsed": true
   },
   "outputs": [],
   "source": [
    "ear_tweets.to_csv(ear_csv,index=False)"
   ]
  },
  {
   "cell_type": "code",
   "execution_count": null,
   "metadata": {
    "collapsed": true
   },
   "outputs": [],
   "source": [
    "types = {\n",
    "    'tweet_id_str': 'object',\n",
    "    'job_id': 'int64',\n",
    "    'text': 'object',\n",
    "    'from_user': 'object',\n",
    "    'from_user_id_str': 'object',\n",
    "    'from_user_name': 'object',\n",
    "    'from_user_fullname': 'object',\n",
    "    'from_user_followers': 'int64',\n",
    "    'from_user_following': 'int64',\n",
    "    'from_user_favorites': 'int64',\n",
    "    'from_user_tweets': 'int64',\n",
    "    'from_user_timezone': 'object',\n",
    "    'to_user': 'object',\n",
    "    'to_user_id_str': 'object',\n",
    "    'to_user_name': 'object',\n",
    "    'source': 'object',\n",
    "    'location_geo': 'object',\n",
    "    'location_geo_0': 'float64',\n",
    "    'location_geo_1': 'float64',\n",
    "    'iso_language': 'object',\n",
    "    'analysis_state': 'int64',\n",
    "}"
   ]
  },
  {
   "cell_type": "code",
   "execution_count": null,
   "metadata": {
    "collapsed": false,
    "scrolled": true
   },
   "outputs": [],
   "source": [
    "#tor_tweets = pd.read_csv(tor_csv, dtype=types, parse_dates='created_at')\n",
    "ear_tweets = pd.read_csv(ear_csv, dtype=types, parse_dates='created_at')"
   ]
  }
 ],
 "metadata": {
  "kernelspec": {
   "display_name": "Python 3",
   "language": "python",
   "name": "python3"
  },
  "language_info": {
   "codemirror_mode": {
    "name": "ipython",
    "version": 3
   },
   "file_extension": ".py",
   "mimetype": "text/x-python",
   "name": "python",
   "nbconvert_exporter": "python",
   "pygments_lexer": "ipython3",
   "version": "3.4.3"
  }
 },
 "nbformat": 4,
 "nbformat_minor": 0
}
